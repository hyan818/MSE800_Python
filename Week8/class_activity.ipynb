{
 "cells": [
  {
   "cell_type": "code",
   "execution_count": 2,
   "metadata": {},
   "outputs": [
    {
     "name": "stdout",
     "output_type": "stream",
     "text": [
      "[1, 2, 6, 24, 120]\n"
     ]
    }
   ],
   "source": [
    "# Factorial 1\n",
    "number = [1,2,3,4,5]\n",
    "\n",
    "def factorial(n):\n",
    "    if n < 2:\n",
    "        return n\n",
    "    return n * factorial(n - 1)\n",
    "\n",
    "print([factorial(n) for n in number])"
   ]
  },
  {
   "cell_type": "code",
   "execution_count": 3,
   "metadata": {},
   "outputs": [
    {
     "name": "stdout",
     "output_type": "stream",
     "text": [
      "[1, 2, 6, 24, 120]\n"
     ]
    }
   ],
   "source": [
    "# Factorial 2\n",
    "number = [1,2,3,4,5]\n",
    "\n",
    "def factorial(n):\n",
    "    if n == 1:\n",
    "        return n\n",
    "    result = 1\n",
    "    for x in range(1, n + 1):\n",
    "        result = result * x \n",
    "    return result\n",
    "\n",
    "print([factorial(n) for n in number])"
   ]
  }
 ],
 "metadata": {
  "kernelspec": {
   "display_name": ".venv",
   "language": "python",
   "name": "python3"
  },
  "language_info": {
   "codemirror_mode": {
    "name": "ipython",
    "version": 3
   },
   "file_extension": ".py",
   "mimetype": "text/x-python",
   "name": "python",
   "nbconvert_exporter": "python",
   "pygments_lexer": "ipython3",
   "version": "3.13.1"
  }
 },
 "nbformat": 4,
 "nbformat_minor": 2
}
