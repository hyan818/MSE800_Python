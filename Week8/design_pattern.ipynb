{
 "cells": [
  {
   "cell_type": "code",
   "execution_count": 4,
   "metadata": {},
   "outputs": [
    {
     "name": "stdout",
     "output_type": "stream",
     "text": [
      "Object created <__main__.Singleton object at 0x10730e510>\n",
      "Object created <__main__.Singleton object at 0x10730e510>\n",
      "4415612176 4415612176\n"
     ]
    }
   ],
   "source": [
    "# Singleton Pattern\n",
    "class Singleton(object):\n",
    "     def __new__(cls):\n",
    "       if not hasattr(cls, 'instance'):\n",
    "         cls.instance = super(Singleton, cls).__new__(cls)\n",
    "       return cls.instance\n",
    "\n",
    "s = Singleton()\n",
    "print(\"Object created\", s)\n",
    "\n",
    "s1 = Singleton()\n",
    "print(\"Object created\", s1)\n",
    "\n",
    "print(id(s), id(s1))"
   ]
  },
  {
   "cell_type": "code",
   "execution_count": 3,
   "metadata": {},
   "outputs": [
    {
     "data": {
      "text/plain": [
       "'Drawing a Circle'"
      ]
     },
     "execution_count": 3,
     "metadata": {},
     "output_type": "execute_result"
    }
   ],
   "source": [
    "# Factory Pattern\n",
    "from abc import abstractmethod\n",
    "\n",
    "class Shape:\n",
    "    @abstractmethod\n",
    "    def draw(self):\n",
    "        pass\n",
    "\n",
    "class Circle(Shape):\n",
    "    def draw(self):\n",
    "        return \"Drawing a Circle\"\n",
    "\n",
    "class Square(Shape):\n",
    "    def draw(self):\n",
    "        return \"Drawing a Square\"\n",
    "\n",
    "class ShapeFactory:\n",
    "    @staticmethod\n",
    "    def get_shape(shape_type: str) -> Shape:\n",
    "        shape_type = shape_type.lower()\n",
    "        shapes = {\"circle\": Circle, \"square\": Square}\n",
    "        return shapes.get(shape_type, lambda: None)()\n",
    "\n",
    "shape = ShapeFactory.get_shape(\"circle\")\n",
    "shape.draw()"
   ]
  },
  {
   "cell_type": "code",
   "execution_count": 5,
   "metadata": {},
   "outputs": [
    {
     "name": "stdout",
     "output_type": "stream",
     "text": [
      "Old Printer: Hello, World!\n"
     ]
    }
   ],
   "source": [
    "# Adapter Pattern\n",
    "class OldPrinter:\n",
    "    def print_text(self, text):\n",
    "        return f\"Old Printer: {text}\"\n",
    "\n",
    "class PrinterAdapter:\n",
    "    def __init__(self, old_printer):\n",
    "        self._old_printer = old_printer\n",
    "\n",
    "    @property\n",
    "    def display(self):\n",
    "        return self._old_printer.print_text  # Adapting as a property\n",
    "\n",
    "# Client code\n",
    "old_printer = OldPrinter()\n",
    "new_printer = PrinterAdapter(old_printer)\n",
    "print(new_printer.display(\"Hello, World!\"))  # Output: Old Printer: Hello, World!\n"
   ]
  }
 ],
 "metadata": {
  "kernelspec": {
   "display_name": ".venv",
   "language": "python",
   "name": "python3"
  },
  "language_info": {
   "codemirror_mode": {
    "name": "ipython",
    "version": 3
   },
   "file_extension": ".py",
   "mimetype": "text/x-python",
   "name": "python",
   "nbconvert_exporter": "python",
   "pygments_lexer": "ipython3",
   "version": "3.13.1"
  }
 },
 "nbformat": 4,
 "nbformat_minor": 2
}
