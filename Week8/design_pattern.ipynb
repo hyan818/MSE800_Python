{
 "cells": [
  {
   "cell_type": "code",
   "execution_count": 3,
   "metadata": {},
   "outputs": [
    {
     "name": "stdout",
     "output_type": "stream",
     "text": [
      "Object created <__main__.Singleton object at 0x1051dcec0>\n",
      "Object created <__main__.Singleton object at 0x1051dcec0>\n",
      "4380806848 4380806848\n"
     ]
    }
   ],
   "source": [
    "# Singleton Pattern\n",
    "class Singleton(object):\n",
    "     def __new__(cls):\n",
    "       if not hasattr(cls, 'instance'):\n",
    "         cls.instance = super(Singleton, cls).__new__(cls)\n",
    "       return cls.instance\n",
    "\n",
    "s = Singleton()\n",
    "print(\"Object created\", s)\n",
    "\n",
    "s1 = Singleton()\n",
    "print(\"Object created\", s1)\n",
    "\n",
    "print(id(s), id(s1))"
   ]
  }
 ],
 "metadata": {
  "kernelspec": {
   "display_name": ".venv",
   "language": "python",
   "name": "python3"
  },
  "language_info": {
   "codemirror_mode": {
    "name": "ipython",
    "version": 3
   },
   "file_extension": ".py",
   "mimetype": "text/x-python",
   "name": "python",
   "nbconvert_exporter": "python",
   "pygments_lexer": "ipython3",
   "version": "3.13.1"
  }
 },
 "nbformat": 4,
 "nbformat_minor": 2
}
